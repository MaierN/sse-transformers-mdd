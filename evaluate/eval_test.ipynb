{
 "cells": [
  {
   "cell_type": "code",
   "execution_count": 1,
   "metadata": {},
   "outputs": [],
   "source": [
    "from datasets import load_from_disk, load_metric\n",
    "from transformers import (\n",
    "    DataCollatorForSeq2Seq,\n",
    "    RobertaTokenizer,\n",
    "    T5ForConditionalGeneration,\n",
    ")\n",
    "import torch\n",
    "from torch.utils.data import DataLoader, SequentialSampler\n",
    "from tqdm import tqdm\n",
    "import evaluate\n",
    "from CodeBLEU.calc_code_bleu import compute_code_bleu"
   ]
  },
  {
   "cell_type": "code",
   "execution_count": 2,
   "metadata": {},
   "outputs": [
    {
     "name": "stdout",
     "output_type": "stream",
     "text": [
      "Dataset({\n",
      "    features: ['code', 'contents', 'xmi', 'originalLine', 'input_ids', 'attention_mask', 'seq', 'labels', 'generated', 'generated_decoded'],\n",
      "    num_rows: 21563\n",
      "})\n"
     ]
    }
   ],
   "source": [
    "dataset = load_from_disk(\"/data/nicolasmaier/dataset/hf_clean_seq_dataset_3_eval\")\n",
    "print(dataset)"
   ]
  },
  {
   "cell_type": "code",
   "execution_count": 3,
   "metadata": {},
   "outputs": [
    {
     "name": "stdout",
     "output_type": "stream",
     "text": [
      "{'predictions': Value(dtype='string', id='sequence'), 'references': Value(dtype='string', id='sequence')}\n"
     ]
    }
   ],
   "source": [
    "metric_exactmatch = evaluate.load(\"exact_match\")\n",
    "print(metric_exactmatch.features)"
   ]
  },
  {
   "cell_type": "code",
   "execution_count": 4,
   "metadata": {},
   "outputs": [
    {
     "name": "stdout",
     "output_type": "stream",
     "text": [
      "{'exact_match': 0.9825163474470158}\n"
     ]
    }
   ],
   "source": [
    "res = metric_exactmatch.compute(predictions=dataset[\"generated_decoded\"], references=dataset[\"seq\"])\n",
    "print(res)\n"
   ]
  },
  {
   "cell_type": "code",
   "execution_count": 8,
   "metadata": {},
   "outputs": [
    {
     "name": "stdout",
     "output_type": "stream",
     "text": [
      "21186 21563 0.9825163474470158\n",
      "20909 21563 0.9696702685155126\n"
     ]
    }
   ],
   "source": [
    "res = [x[\"generated_decoded\"] == x[\"seq\"] for x in dataset]\n",
    "print(sum(res), len(res), sum(res)/len(res))\n"
   ]
  },
  {
   "cell_type": "code",
   "execution_count": 15,
   "metadata": {},
   "outputs": [
    {
     "name": "stdout",
     "output_type": "stream",
     "text": [
      "{'code_bleu_score': 0.9988401176314992, 'ngram_match_score': 0.9985903974199987, 'weighted_ngram_match_score': 0.9985867559506246, 'syntax_match_score': 0.9993431995238742}\n"
     ]
    }
   ],
   "source": [
    "res = compute_code_bleu(\n",
    "    ref=dataset[\"seq\"],\n",
    "    hyp=dataset[\"generated_decoded\"],\n",
    "    lang=\"json\",\n",
    "    params=[1/3, 1/3, 1/3, 0], # no dataflow information\n",
    ")\n",
    "print(res)\n"
   ]
  },
  {
   "cell_type": "code",
   "execution_count": 16,
   "metadata": {},
   "outputs": [
    {
     "name": "stderr",
     "output_type": "stream",
     "text": [
      "Loading cached processed dataset at /data/nicolasmaier/dataset/hf_clean_seq_dataset_3_eval/cache-f5fdabeba1d1df7d.arrow\n"
     ]
    },
    {
     "name": "stdout",
     "output_type": "stream",
     "text": [
      "{'code_bleu_score': 0.9531869440870048, 'ngram_match_score': 0.9436915950432125, 'weighted_ngram_match_score': 0.9436201246008289, 'syntax_match_score': 0.9722491126169732}\n"
     ]
    }
   ],
   "source": [
    "dataset_mistakes = dataset.filter(lambda x: x[\"generated_decoded\"] != x[\"seq\"])\n",
    "res = compute_code_bleu(\n",
    "    ref=dataset_mistakes[\"seq\"],\n",
    "    hyp=dataset_mistakes[\"generated_decoded\"],\n",
    "    lang=\"json\",\n",
    "    params=[1/3, 1/3, 1/3, 0], # no dataflow information\n",
    ")\n",
    "print(res)\n"
   ]
  },
  {
   "cell_type": "code",
   "execution_count": null,
   "metadata": {},
   "outputs": [],
   "source": []
  }
 ],
 "metadata": {
  "kernelspec": {
   "display_name": "venv",
   "language": "python",
   "name": "python3"
  },
  "language_info": {
   "codemirror_mode": {
    "name": "ipython",
    "version": 3
   },
   "file_extension": ".py",
   "mimetype": "text/x-python",
   "name": "python",
   "nbconvert_exporter": "python",
   "pygments_lexer": "ipython3",
   "version": "3.8.10 (default, Nov 14 2022, 12:59:47) \n[GCC 9.4.0]"
  },
  "orig_nbformat": 4,
  "vscode": {
   "interpreter": {
    "hash": "875963fee942b3f69bd88b5f58624de4db6bd1d41d962233427d20abfea672ef"
   }
  }
 },
 "nbformat": 4,
 "nbformat_minor": 2
}
