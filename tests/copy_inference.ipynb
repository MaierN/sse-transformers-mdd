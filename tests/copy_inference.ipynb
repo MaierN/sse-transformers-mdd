{
 "cells": [
  {
   "cell_type": "code",
   "execution_count": 1,
   "metadata": {},
   "outputs": [],
   "source": [
    "from datasets import load_from_disk\n",
    "from transformers import (\n",
    "    RobertaTokenizer,\n",
    "    T5ForConditionalGeneration,\n",
    ")\n",
    "import torch"
   ]
  },
  {
   "cell_type": "code",
   "execution_count": 2,
   "metadata": {},
   "outputs": [],
   "source": [
    "torch.set_num_threads(16)"
   ]
  },
  {
   "cell_type": "code",
   "execution_count": 3,
   "metadata": {},
   "outputs": [],
   "source": [
    "tokenizer = RobertaTokenizer.from_pretrained('Salesforce/codet5-small')\n",
    "model = T5ForConditionalGeneration.from_pretrained('/data/nicolasmaier/model/codet5-finetuned-split/checkpoint-312000')"
   ]
  },
  {
   "cell_type": "code",
   "execution_count": 6,
   "metadata": {},
   "outputs": [
    {
     "name": "stdout",
     "output_type": "stream",
     "text": [
      "DatasetDict({\n",
      "    train: Dataset({\n",
      "        features: ['code', 'contents', 'xmi', 'originalLine', 'input_ids', 'attention_mask', 'labels'],\n",
      "        num_rows: 425631\n",
      "    })\n",
      "    valid: Dataset({\n",
      "        features: ['code', 'contents', 'xmi', 'originalLine', 'input_ids', 'attention_mask', 'labels'],\n",
      "        num_rows: 14634\n",
      "    })\n",
      "    test: Dataset({\n",
      "        features: ['code', 'contents', 'xmi', 'originalLine', 'input_ids', 'attention_mask', 'labels'],\n",
      "        num_rows: 25156\n",
      "    })\n",
      "})\n"
     ]
    }
   ],
   "source": [
    "dataset = load_from_disk(\"/data/nicolasmaier/dataset/hf_clean_dataset\")\n",
    "print(dataset)"
   ]
  },
  {
   "cell_type": "code",
   "execution_count": 7,
   "metadata": {},
   "outputs": [
    {
     "name": "stdout",
     "output_type": "stream",
     "text": [
      "package targetpackage;\n",
      "\n",
      "public class TargetClass {\n",
      "    @CheckReturnValue\n",
      "    @NonNull\n",
      "    @SchedulerSupport(SchedulerSupport.CUSTOM)\n",
      "    public static Observable<Long> interval(long initialDelay, long period, TimeUnit unit, Scheduler scheduler) {\n",
      "        ObjectHelper.requireNonNull(unit, \"unit is null\");\n",
      "        ObjectHelper.requireNonNull(scheduler, \"scheduler is null\");\n",
      "\n",
      "        return RxJavaPlugins.onAssembly(new ObservableInterval(Math.max(0L, initialDelay), Math.max(0L, period), unit, scheduler));\n",
      "    }\n",
      "}\n",
      "\n",
      "<?xml version=\"1.0\" encoding=\"ASCII\"?>\n",
      "<java:Model xmi:version=\"2.0\" xmlns:xmi=\"http://www.omg.org/XMI\" xmlns:xsi=\"http://www.w3.org/2001/XMLSchema-instance\" xmlns:java=\"http://www.eclipse.org/MoDisco/Java/0.2.incubation/java\" name=\"TargetProject\">\n",
      "  <ownedElements name=\"targetpackage\">\n",
      "    <ownedElements xsi:type=\"java:ClassDeclaration\" originalCompilationUnit=\"//@compilationUnits.0\" name=\"TargetClass\">\n",
      "      <modifier visibility=\"public\"/>\n",
      "      <bodyDeclarations xsi:type=\"java:MethodDeclaration\" originalCompilationUnit=\"//@compilationUnits.0\" name=\"interval\">\n",
      "        <annotations originalCompilationUnit=\"//@compilationUnits.0\">\n",
      "          <type type=\"//@unresolvedItems.0\"/>\n",
      "        </annotations>\n",
      "        <annotations originalCompilationUnit=\"//@compilationUnits.0\">\n",
      "          <type type=\"//@unresolvedItems.1\"/>\n",
      "        </annotations>\n",
      "        <annotations originalCompilationUnit=\"//@compilationUnits.0\">\n",
      "          <type type=\"//@unresolvedItems.2\"/>\n",
      "          <values>\n",
      "            <value xsi:type=\"java:UnresolvedItemAccess\" element=\"//@unresolvedItems.3\">\n",
      "              <qualifier xsi:type=\"java:UnresolvedItemAccess\" element=\"//@unresolvedItems.2\"/>\n",
      "            </value>\n",
      "          </values>\n",
      "        </annotations>\n",
      "        <modifier visibility=\"public\" static=\"true\"/>\n",
      "        <body originalCompilationUnit=\"//@compilationUnits.0\">\n",
      "          <statements xsi:type=\"java:ExpressionStatement\" originalCompilationUnit=\"//@compilationUnits.0\">\n",
      "            <expression xsi:type=\"java:MethodInvocation\" originalCompilationUnit=\"//@compilationUnits.0\" method=\"//@unresolvedItems.8\">\n",
      "              <arguments xsi:type=\"java:UnresolvedItemAccess\" element=\"//@unresolvedItems.9\"/>\n",
      "              <arguments xsi:type=\"java:StringLiteral\" originalCompilationUnit=\"//@compilationUnits.0\" escapedValue=\"&quot;unit is null&quot;\"/>\n",
      "              <expression xsi:type=\"java:UnresolvedItemAccess\" element=\"//@unresolvedItems.7\"/>\n",
      "            </expression>\n",
      "          </statements>\n",
      "          <statements xsi:type=\"java:ExpressionStatement\" originalCompilationUnit=\"//@compilationUnits.0\">\n",
      "            <expression xsi:type=\"java:MethodInvocation\" originalCompilationUnit=\"//@compilationUnits.0\" method=\"//@unresolvedItems.8\">\n",
      "              <arguments xsi:type=\"java:UnresolvedItemAccess\" element=\"//@unresolvedItems.10\"/>\n",
      "              <arguments xsi:type=\"java:StringLiteral\" originalCompilationUnit=\"//@compilationUnits.0\" escapedValue=\"&quot;scheduler is null&quot;\"/>\n",
      "              <expression xsi:type=\"java:UnresolvedItemAccess\" element=\"//@unresolvedItems.7\"/>\n",
      "            </expression>\n",
      "          </statements>\n",
      "          <statements xsi:type=\"java:ReturnStatement\" originalCompilationUnit=\"//@compilationUnits.0\">\n",
      "            <expression xsi:type=\"java:MethodInvocation\" originalCompilationUnit=\"//@compilationUnits.0\" method=\"//@unresolvedItems.12\">\n",
      "              <arguments xsi:type=\"java:ClassInstanceCreation\" originalCompilationUnit=\"//@compilationUnits.0\" method=\"//@ownedElements.1/@ownedPackages.0/@ownedElements.4/@bodyDeclarations.0\">\n",
      "                <arguments xsi:type=\"java:MethodInvocation\" originalCompilationUnit=\"//@compilationUnits.0\" method=\"//@ownedElements.1/@ownedPackages.0/@ownedElements.3/@bodyDeclarations.0\">\n",
      "                  <arguments xsi:type=\"java:NumberLiteral\" originalCompilationUnit=\"//@compilationUnits.0\" tokenValue=\"0L\"/>\n",
      "                  <arguments xsi:type=\"java:SingleVariableAccess\" variable=\"//@ownedElements.0/@ownedElements.0/@bodyDeclarations.0/@parameters.0\"/>\n",
      "                  <expression xsi:type=\"java:TypeAccess\" type=\"//@ownedElements.1/@ownedPackages.0/@ownedElements.3\"/>\n",
      "                </arguments>\n",
      "                <arguments xsi:type=\"java:MethodInvocation\" originalCompilationUnit=\"//@compilationUnits.0\" method=\"//@ownedElements.1/@ownedPackages.0/@ownedElements.3/@bodyDeclarations.0\">\n",
      "                  <arguments xsi:type=\"java:NumberLiteral\" originalCompilationUnit=\"//@compilationUnits.0\" tokenValue=\"0L\"/>\n",
      "                  <arguments xsi:type=\"java:SingleVariableAccess\" variable=\"//@ownedElements.0/@ownedElements.0/@bodyDeclarations.0/@parameters.1\"/>\n",
      "                  <expression xsi:type=\"java:TypeAccess\" type=\"//@ownedElements.1/@ownedPackages.0/@ownedElements.3\"/>\n",
      "                </arguments>\n",
      "                <arguments xsi:type=\"java:UnresolvedItemAccess\" element=\"//@unresolvedItems.9\"/>\n",
      "                <arguments xsi:type=\"java:UnresolvedItemAccess\" element=\"//@unresolvedItems.10\"/>\n",
      "                <type type=\"//@unresolvedItems.13\"/>\n",
      "              </arguments>\n",
      "              <expression xsi:type=\"java:UnresolvedItemAccess\" element=\"//@unresolvedItems.11\"/>\n",
      "            </expression>\n",
      "          </statements>\n",
      "        </body>\n",
      "        <parameters originalCompilationUnit=\"//@compilationUnits.0\" name=\"initialDelay\" usageInVariableAccess=\"//@ownedElements.0/@ownedElements.0/@bodyDeclarations.0/@body/@statements.2/@expression/@arguments.0/@arguments.0/@arguments.1\">\n",
      "          <modifier/>\n",
      "          <type type=\"//@orphanTypes.1\"/>\n",
      "        </parameters>\n",
      "        <parameters originalCompilationUnit=\"//@compilationUnits.0\" name=\"period\" usageInVariableAccess=\"//@ownedElements.0/@ownedElements.0/@bodyDeclarations.0/@body/@statements.2/@expression/@arguments.0/@arguments.1/@arguments.1\">\n",
      "          <modifier/>\n",
      "          <type type=\"//@orphanTypes.1\"/>\n",
      "        </parameters>\n",
      "        <parameters originalCompilationUnit=\"//@compilationUnits.0\" name=\"unit\">\n",
      "          <modifier/>\n",
      "          <type type=\"//@unresolvedItems.5\"/>\n",
      "        </parameters>\n",
      "        <parameters originalCompilationUnit=\"//@compilationUnits.0\" name=\"scheduler\">\n",
      "          <modifier/>\n",
      "          <type type=\"//@unresolvedItems.6\"/>\n",
      "        </parameters>\n",
      "        <returnType type=\"//@orphanTypes.9\"/>\n",
      "      </bodyDeclarations>\n",
      "    </ownedElements>\n",
      "  </ownedElements>\n",
      "  <ownedElements name=\"java\" proxy=\"true\">\n",
      "    <ownedPackages name=\"lang\" proxy=\"true\">\n",
      "      <ownedElements xsi:type=\"java:ClassDeclaration\" name=\"Long\" proxy=\"true\" usagesInTypeAccess=\"//@orphanTypes.9/@typeArguments.0\">\n",
      "        <superInterfaces type=\"//@ownedElements.1/@ownedPackages.0/@ownedElements.2\"/>\n",
      "        <superInterfaces type=\"//@ownedElements.1/@ownedPackages.0/@ownedPackages.0/@ownedElements.0\"/>\n",
      "        <superInterfaces type=\"//@ownedElements.1/@ownedPackages.0/@ownedPackages.0/@ownedElements.1\"/>\n",
      "        <superClass type=\"//@ownedElements.1/@ownedPackages.0/@ownedElements.1\"/>\n",
      "      </ownedElements>\n",
      "      <ownedElements xsi:type=\"java:ClassDeclaration\" name=\"Number\" proxy=\"true\" usagesInTypeAccess=\"//@ownedElements.1/@ownedPackages.0/@ownedElements.0/@superClass\">\n",
      "        <superInterfaces type=\"//@ownedElements.1/@ownedPackages.1/@ownedElements.0\"/>\n",
      "      </ownedElements>\n",
      "      <ownedElements xsi:type=\"java:InterfaceDeclaration\" name=\"Comparable\" proxy=\"true\" usagesInTypeAccess=\"//@ownedElements.1/@ownedPackages.0/@ownedElements.0/@superInterfaces.0\">\n",
      "        <typeParameters name=\"T\" proxy=\"true\"/>\n",
      "      </ownedElements>\n",
      "      <ownedElements xsi:type=\"java:ClassDeclaration\" name=\"Math\" proxy=\"true\" usagesInTypeAccess=\"//@ownedElements.0/@ownedElements.0/@bodyDeclarations.0/@body/@statements.2/@expression/@arguments.0/@arguments.0/@expression //@ownedElements.0/@ownedElements.0/@bodyDeclarations.0/@body/@statements.2/@expression/@arguments.0/@arguments.1/@expression\">\n",
      "        <bodyDeclarations xsi:type=\"java:MethodDeclaration\" name=\"max\" proxy=\"true\" usages=\"//@ownedElements.0/@ownedElements.0/@bodyDeclarations.0/@body/@statements.2/@expression/@arguments.0/@arguments.0 //@ownedElements.0/@ownedElements.0/@bodyDeclarations.0/@body/@statements.2/@expression/@arguments.0/@arguments.1\">\n",
      "          <parameters name=\"arg0\" proxy=\"true\">\n",
      "            <type type=\"//@orphanTypes.1\"/>\n",
      "          </parameters>\n",
      "          <parameters name=\"arg1\" proxy=\"true\">\n",
      "            <type type=\"//@orphanTypes.1\"/>\n",
      "          </parameters>\n",
      "        </bodyDeclarations>\n",
      "      </ownedElements>\n",
      "      <ownedElements xsi:type=\"java:ClassDeclaration\" name=\"Object\" proxy=\"true\">\n",
      "        <bodyDeclarations xsi:type=\"java:ConstructorDeclaration\" name=\"Object\" proxy=\"true\" usages=\"//@ownedElements.0/@ownedElements.0/@bodyDeclarations.0/@body/@statements.2/@expression/@arguments.0\"/>\n",
      "      </ownedElements>\n",
      "      <ownedPackages name=\"constant\" proxy=\"true\">\n",
      "        <ownedElements xsi:type=\"java:InterfaceDeclaration\" name=\"Constable\" proxy=\"true\" usagesInTypeAccess=\"//@ownedElements.1/@ownedPackages.0/@ownedElements.0/@superInterfaces.1\"/>\n",
      "        <ownedElements xsi:type=\"java:InterfaceDeclaration\" name=\"ConstantDesc\" proxy=\"true\" usagesInTypeAccess=\"//@ownedElements.1/@ownedPackages.0/@ownedElements.0/@superInterfaces.2\"/>\n",
      "      </ownedPackages>\n",
      "    </ownedPackages>\n",
      "    <ownedPackages name=\"io\" proxy=\"true\">\n",
      "      <ownedElements xsi:type=\"java:InterfaceDeclaration\" name=\"Serializable\" proxy=\"true\" usagesInTypeAccess=\"//@ownedElements.1/@ownedPackages.0/@ownedElements.1/@superInterfaces.0\"/>\n",
      "    </ownedPackages>\n",
      "  </ownedElements>\n",
      "  <orphanTypes xsi:type=\"java:PrimitiveTypeInt\" name=\"int\"/>\n",
      "  <orphanTypes xsi:type=\"java:PrimitiveTypeLong\" name=\"long\" usagesInTypeAccess=\"//@ownedElements.0/@ownedElements.0/@bodyDeclarations.0/@parameters.0/@type //@ownedElements.0/@ownedElements.0/@bodyDeclarations.0/@parameters.1/@type //@ownedElements.1/@ownedPackages.0/@ownedElements.3/@bodyDeclarations.0/@parameters.0/@type //@ownedElements.1/@ownedPackages.0/@ownedElements.3/@bodyDeclarations.0/@parameters.1/@type\"/>\n",
      "  <orphanTypes xsi:type=\"java:PrimitiveTypeFloat\" name=\"float\"/>\n",
      "  <orphanTypes xsi:type=\"java:PrimitiveTypeDouble\" name=\"double\"/>\n",
      "  <orphanTypes xsi:type=\"java:PrimitiveTypeBoolean\" name=\"boolean\"/>\n",
      "  <orphanTypes xsi:type=\"java:PrimitiveTypeVoid\" name=\"void\"/>\n",
      "  <orphanTypes xsi:type=\"java:PrimitiveTypeChar\" name=\"char\"/>\n",
      "  <orphanTypes xsi:type=\"java:PrimitiveTypeShort\" name=\"short\"/>\n",
      "  <orphanTypes xsi:type=\"java:PrimitiveTypeByte\" name=\"byte\"/>\n",
      "  <orphanTypes xsi:type=\"java:ParameterizedType\" name=\"Observable&lt;Long>\" usagesInTypeAccess=\"//@ownedElements.0/@ownedElements.0/@bodyDeclarations.0/@returnType\">\n",
      "    <type type=\"//@unresolvedItems.4\"/>\n",
      "    <typeArguments type=\"//@ownedElements.1/@ownedPackages.0/@ownedElements.0\"/>\n",
      "  </orphanTypes>\n",
      "  <unresolvedItems xsi:type=\"java:UnresolvedTypeDeclaration\" name=\"CheckReturnValue\" proxy=\"true\" usagesInTypeAccess=\"//@ownedElements.0/@ownedElements.0/@bodyDeclarations.0/@annotations.0/@type\"/>\n",
      "  <unresolvedItems xsi:type=\"java:UnresolvedTypeDeclaration\" name=\"NonNull\" proxy=\"true\" usagesInTypeAccess=\"//@ownedElements.0/@ownedElements.0/@bodyDeclarations.0/@annotations.1/@type\"/>\n",
      "  <unresolvedItems xsi:type=\"java:UnresolvedTypeDeclaration\" name=\"SchedulerSupport\" proxy=\"true\" usagesInTypeAccess=\"//@ownedElements.0/@ownedElements.0/@bodyDeclarations.0/@annotations.2/@type\"/>\n",
      "  <unresolvedItems name=\"CUSTOM\" proxy=\"true\"/>\n",
      "  <unresolvedItems xsi:type=\"java:UnresolvedTypeDeclaration\" name=\"Observable\" proxy=\"true\" usagesInTypeAccess=\"//@orphanTypes.9/@type\"/>\n",
      "  <unresolvedItems xsi:type=\"java:UnresolvedTypeDeclaration\" name=\"TimeUnit\" proxy=\"true\" usagesInTypeAccess=\"//@ownedElements.0/@ownedElements.0/@bodyDeclarations.0/@parameters.2/@type\"/>\n",
      "  <unresolvedItems xsi:type=\"java:UnresolvedTypeDeclaration\" name=\"Scheduler\" proxy=\"true\" usagesInTypeAccess=\"//@ownedElements.0/@ownedElements.0/@bodyDeclarations.0/@parameters.3/@type\"/>\n",
      "  <unresolvedItems name=\"ObjectHelper\" proxy=\"true\"/>\n",
      "  <unresolvedItems xsi:type=\"java:UnresolvedMethodDeclaration\" name=\"requireNonNull\" proxy=\"true\" usages=\"//@ownedElements.0/@ownedElements.0/@bodyDeclarations.0/@body/@statements.0/@expression //@ownedElements.0/@ownedElements.0/@bodyDeclarations.0/@body/@statements.1/@expression\"/>\n",
      "  <unresolvedItems name=\"unit\" proxy=\"true\"/>\n",
      "  <unresolvedItems name=\"scheduler\" proxy=\"true\"/>\n",
      "  <unresolvedItems name=\"RxJavaPlugins\" proxy=\"true\"/>\n",
      "  <unresolvedItems xsi:type=\"java:UnresolvedMethodDeclaration\" name=\"onAssembly\" proxy=\"true\" usages=\"//@ownedElements.0/@ownedElements.0/@bodyDeclarations.0/@body/@statements.2/@expression\"/>\n",
      "  <unresolvedItems xsi:type=\"java:UnresolvedTypeDeclaration\" name=\"ObservableInterval\" proxy=\"true\" usagesInTypeAccess=\"//@ownedElements.0/@ownedElements.0/@bodyDeclarations.0/@body/@statements.2/@expression/@arguments.0/@type\"/>\n",
      "  <compilationUnits name=\"TargetClass.java\" originalFilePath=\"C:\\Users\\Nic\\Documents\\my_documents\\unifr\\seminar_software_engineering\\sse-transformers-mdd\\workspace_target\\TargetProject\\src\\targetpackage\\TargetClass.java\" package=\"//@ownedElements.0\" types=\"//@ownedElements.0/@ownedElements.0\"/>\n",
      "</java:Model>\n",
      "\n"
     ]
    }
   ],
   "source": [
    "example = dataset['test'][21]\n",
    "print(example['contents'])\n",
    "print(example['xmi'])"
   ]
  },
  {
   "cell_type": "code",
   "execution_count": 8,
   "metadata": {},
   "outputs": [],
   "source": [
    "def generate_token(model, input_ids, decoder_input_ids):\n",
    "    outputs = model(input_ids=input_ids, decoder_input_ids=torch.tensor([decoder_input_ids]))\n",
    "    token = torch.argmax(outputs[0][0, -1, :])\n",
    "    return token.item()"
   ]
  },
  {
   "cell_type": "code",
   "execution_count": 194,
   "metadata": {},
   "outputs": [],
   "source": [
    "res = [1]"
   ]
  },
  {
   "cell_type": "code",
   "execution_count": null,
   "metadata": {},
   "outputs": [],
   "source": [
    "for i in range(200):\n",
    "    input = tokenizer(example[\"contents\"], return_tensors='pt')\n",
    "    token = generate_token(model, input.input_ids, res)\n",
    "\n",
    "    res.append(token)\n",
    "    print(tokenizer.decode(torch.tensor(res)))"
   ]
  },
  {
   "cell_type": "code",
   "execution_count": 195,
   "metadata": {},
   "outputs": [],
   "source": [
    "input = tokenizer(example[\"contents\"], return_tensors='pt')\n",
    "outputs = model.generate(input.input_ids, max_length=1000, num_beams=5, early_stopping=True)"
   ]
  },
  {
   "cell_type": "code",
   "execution_count": 196,
   "metadata": {},
   "outputs": [
    {
     "name": "stdout",
     "output_type": "stream",
     "text": [
      "<pad><s><?xml version=\"1.0\" encoding=\"ASCII\"?>\n",
      "<java:Model xmi:version=\"2.0\" xmlns:xmi=\"http://www.omg.org/XMI\" xmlns:xsi=\"http://www.w3.org/2001/XMLSchema-instance\" xmlns:java=\"http://www.eclipse.org/MoDisco/Java/0.2.incubation/java\" name=\"TargetProject\">\n",
      "  <ownedElements name=\"targetpackage\">\n",
      "    <ownedElements xsi:type=\"java:ClassDeclaration\" originalCompilationUnit=\"//@compilationUnits.0\" name=\"TargetClass\">\n",
      "      <modifier visibility=\"public\"/>\n",
      "      <bodyDeclarations xsi:type=\"java:MethodDeclaration\" originalCompilationUnit=\"//@compilationUnits.0\" name=\"interval\">\n",
      "        <annotations originalCompilationUnit=\"//@compilationUnits.0\">\n",
      "          <type type=\"//@unresolvedItems.0\"/>\n",
      "        </annotations>\n",
      "        <annotations originalCompilationUnit=\"//@compilationUnits.0\">\n",
      "          <type type=\"//@unresolvedItems.1\"/>\n",
      "        </annotations>\n",
      "        <modifier visibility=\"public\" static=\"true\"/>\n",
      "        <body originalCompilationUnit=\"//@compilationUnits.0\">\n",
      "          <statements xsi:type=\"java:ExpressionStatement\" originalCompilationUnit=\"//@compilationUnits.0\">\n",
      "            <expression xsi:type=\"java:MethodInvocation\" originalCompilationUnit=\"//@compilationUnits.0\" method=\"//@unresolvedItems.6\">\n",
      "              <arguments xsi:type=\"java:UnresolvedItemAccess\" element=\"//@unresolvedItems.7\"/>\n",
      "              <arguments xsi:type=\"java:StringLiteral\" originalCompilationUnit=\"//@compilationUnits.0\" escapedValue=\"&quot;unit is null&quot;\"/>\n",
      "              <expression xsi:type=\"java:UnresolvedItemAccess\" element=\"//@unresolvedItems.5\"/>\n",
      "            </expression>\n",
      "          </statements>\n",
      "          <statements xsi:type=\"java:ExpressionStatement\" originalCompilationUnit=\"//@compilationUnits.0\">\n",
      "            <expression xsi:type=\"java:MethodInvocation\"</s>\n"
     ]
    }
   ],
   "source": [
    "print(tokenizer.decode(outputs[0]))"
   ]
  },
  {
   "cell_type": "code",
   "execution_count": 197,
   "metadata": {},
   "outputs": [
    {
     "name": "stdout",
     "output_type": "stream",
     "text": [
      "torch.Size([513])\n"
     ]
    }
   ],
   "source": [
    "print(outputs[0].size())"
   ]
  },
  {
   "cell_type": "code",
   "execution_count": null,
   "metadata": {},
   "outputs": [],
   "source": []
  }
 ],
 "metadata": {
  "kernelspec": {
   "display_name": "Python 3.8.10 ('venv': venv)",
   "language": "python",
   "name": "python3"
  },
  "language_info": {
   "codemirror_mode": {
    "name": "ipython",
    "version": 3
   },
   "file_extension": ".py",
   "mimetype": "text/x-python",
   "name": "python",
   "nbconvert_exporter": "python",
   "pygments_lexer": "ipython3",
   "version": "3.8.10"
  },
  "orig_nbformat": 4,
  "vscode": {
   "interpreter": {
    "hash": "605e098c6041b6083d991721b9f8ec0203cba3209db372356f118eea72c915b6"
   }
  }
 },
 "nbformat": 4,
 "nbformat_minor": 2
}
