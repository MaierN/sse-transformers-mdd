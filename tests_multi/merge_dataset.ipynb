{
 "cells": [
  {
   "cell_type": "code",
   "execution_count": 1,
   "metadata": {},
   "outputs": [],
   "source": [
    "import json\n",
    "from datasets import load_from_disk, load_dataset, concatenate_datasets\n",
    "from transformers import RobertaTokenizer\n",
    "import os\n"
   ]
  },
  {
   "cell_type": "code",
   "execution_count": 2,
   "metadata": {},
   "outputs": [
    {
     "name": "stdout",
     "output_type": "stream",
     "text": [
      "DatasetDict({\n",
      "    train: Dataset({\n",
      "        features: ['repository_name', 'func_path_in_repository', 'func_name', 'whole_func_string', 'language', 'func_code_string', 'func_code_tokens', 'func_documentation_string', 'func_documentation_tokens', 'split_name', 'func_code_url', 'code', 'input_ids', 'attention_mask', 'labels'],\n",
      "        num_rows: 909090\n",
      "    })\n",
      "    test: Dataset({\n",
      "        features: ['repository_name', 'func_path_in_repository', 'func_name', 'whole_func_string', 'language', 'func_code_string', 'func_code_tokens', 'func_documentation_string', 'func_documentation_tokens', 'split_name', 'func_code_url', 'code', 'input_ids', 'attention_mask', 'labels'],\n",
      "        num_rows: 50975\n",
      "    })\n",
      "    validation: Dataset({\n",
      "        features: ['repository_name', 'func_path_in_repository', 'func_name', 'whole_func_string', 'language', 'func_code_string', 'func_code_tokens', 'func_documentation_string', 'func_documentation_tokens', 'split_name', 'func_code_url', 'code', 'input_ids', 'attention_mask', 'labels'],\n",
      "        num_rows: 42644\n",
      "    })\n",
      "})\n",
      "DatasetDict({\n",
      "    train: Dataset({\n",
      "        features: ['code', 'contents', 'xmi', 'originalLine', 'input_ids', 'attention_mask', 'seq', 'labels'],\n",
      "        num_rows: 366219\n",
      "    })\n",
      "    valid: Dataset({\n",
      "        features: ['code', 'contents', 'xmi', 'originalLine', 'input_ids', 'attention_mask', 'seq', 'labels'],\n",
      "        num_rows: 13021\n",
      "    })\n",
      "    test: Dataset({\n",
      "        features: ['code', 'contents', 'xmi', 'originalLine', 'input_ids', 'attention_mask', 'seq', 'labels'],\n",
      "        num_rows: 21560\n",
      "    })\n",
      "})\n"
     ]
    }
   ],
   "source": [
    "dataset_csn = load_from_disk(\"/data/nicolasmaier/dataset/hf_clean_csn_1\")\n",
    "dataset_seq = load_from_disk(\"/data/nicolasmaier/dataset/hf_clean_seq_1\")\n",
    "\n",
    "print(dataset_csn)\n",
    "print(dataset_seq)\n"
   ]
  },
  {
   "cell_type": "code",
   "execution_count": null,
   "metadata": {},
   "outputs": [],
   "source": [
    "dataset_csn_java = dataset_csn.filter(\n",
    "    lambda x: x[\"language\"] == \"java\",\n",
    "    num_proc=64,\n",
    ")\n",
    "dataset_csn_python = dataset_csn.filter(\n",
    "    lambda x: x[\"language\"] == \"python\",\n",
    "    num_proc=64,\n",
    ")\n",
    "dataset_csn_javascript = dataset_csn.filter(\n",
    "    lambda x: x[\"language\"] == \"javascript\",\n",
    "    num_proc=64,\n",
    ")\n"
   ]
  },
  {
   "cell_type": "code",
   "execution_count": 4,
   "metadata": {},
   "outputs": [
    {
     "name": "stdout",
     "output_type": "stream",
     "text": [
      "DatasetDict({\n",
      "    train: Dataset({\n",
      "        features: ['code', 'input_ids', 'attention_mask', 'labels'],\n",
      "        num_rows: 424692\n",
      "    })\n",
      "    test: Dataset({\n",
      "        features: ['code', 'input_ids', 'attention_mask', 'labels'],\n",
      "        num_rows: 25027\n",
      "    })\n",
      "    validation: Dataset({\n",
      "        features: ['code', 'input_ids', 'attention_mask', 'labels'],\n",
      "        num_rows: 14615\n",
      "    })\n",
      "})\n",
      "DatasetDict({\n",
      "    train: Dataset({\n",
      "        features: ['code', 'input_ids', 'attention_mask', 'labels'],\n",
      "        num_rows: 374271\n",
      "    })\n",
      "    test: Dataset({\n",
      "        features: ['code', 'input_ids', 'attention_mask', 'labels'],\n",
      "        num_rows: 20115\n",
      "    })\n",
      "    validation: Dataset({\n",
      "        features: ['code', 'input_ids', 'attention_mask', 'labels'],\n",
      "        num_rows: 20695\n",
      "    })\n",
      "})\n",
      "DatasetDict({\n",
      "    train: Dataset({\n",
      "        features: ['code', 'input_ids', 'attention_mask', 'labels'],\n",
      "        num_rows: 110127\n",
      "    })\n",
      "    test: Dataset({\n",
      "        features: ['code', 'input_ids', 'attention_mask', 'labels'],\n",
      "        num_rows: 5833\n",
      "    })\n",
      "    validation: Dataset({\n",
      "        features: ['code', 'input_ids', 'attention_mask', 'labels'],\n",
      "        num_rows: 7334\n",
      "    })\n",
      "})\n",
      "DatasetDict({\n",
      "    train: Dataset({\n",
      "        features: ['code', 'contents', 'xmi', 'originalLine', 'input_ids', 'attention_mask', 'seq', 'labels'],\n",
      "        num_rows: 366219\n",
      "    })\n",
      "    valid: Dataset({\n",
      "        features: ['code', 'contents', 'xmi', 'originalLine', 'input_ids', 'attention_mask', 'seq', 'labels'],\n",
      "        num_rows: 13021\n",
      "    })\n",
      "    test: Dataset({\n",
      "        features: ['code', 'contents', 'xmi', 'originalLine', 'input_ids', 'attention_mask', 'seq', 'labels'],\n",
      "        num_rows: 21560\n",
      "    })\n",
      "})\n"
     ]
    }
   ],
   "source": [
    "csn_extra_cols = [\n",
    "    \"repository_name\",\n",
    "    \"func_path_in_repository\",\n",
    "    \"func_name\",\n",
    "    \"whole_func_string\",\n",
    "    \"language\",\n",
    "    \"func_code_string\",\n",
    "    \"func_code_tokens\",\n",
    "    \"func_documentation_string\",\n",
    "    \"func_documentation_tokens\",\n",
    "    \"split_name\",\n",
    "    \"func_code_url\",\n",
    "]\n",
    "\n",
    "dataset_csn_java = dataset_csn_java.remove_columns(csn_extra_cols)\n",
    "dataset_csn_python = dataset_csn_python.remove_columns(csn_extra_cols)\n",
    "dataset_csn_javascript = dataset_csn_javascript.remove_columns(csn_extra_cols)\n",
    "dataset_seq = dataset_seq.remove_columns(\n",
    "    [\n",
    "        #\"code\",\n",
    "        \"contents\",\n",
    "        \"xmi\",\n",
    "        \"originalLine\",\n",
    "        \"seq\",\n",
    "    ]\n",
    ")\n",
    "\n",
    "print(dataset_csn_java)\n",
    "print(dataset_csn_python)\n",
    "print(dataset_csn_javascript)\n",
    "print(dataset_seq)\n"
   ]
  },
  {
   "cell_type": "code",
   "execution_count": 9,
   "metadata": {},
   "outputs": [
    {
     "name": "stderr",
     "output_type": "stream",
     "text": [
      "Loading cached shuffled indices for dataset at /data/nicolasmaier/dataset/hf_clean_csn_1/train/cache-478d3d66bbb95c76.arrow\n",
      "Loading cached shuffled indices for dataset at /data/nicolasmaier/dataset/hf_clean_csn_1/train/cache-2f7a4879408ec3fc.arrow\n",
      "Loading cached shuffled indices for dataset at /data/nicolasmaier/dataset/hf_clean_csn_1/train/cache-0f82bc98440e68de.arrow\n",
      "Loading cached shuffled indices for dataset at /data/nicolasmaier/dataset/hf_clean_seq_1/train/cache-53cd606429ad6615.arrow\n",
      "Loading cached shuffled indices for dataset at /data/nicolasmaier/dataset/hf_clean_csn_1/validation/cache-d9d7996db8ee43a5.arrow\n",
      "Loading cached shuffled indices for dataset at /data/nicolasmaier/dataset/hf_clean_csn_1/validation/cache-c19e01dc169dc06a.arrow\n",
      "Loading cached shuffled indices for dataset at /data/nicolasmaier/dataset/hf_clean_csn_1/validation/cache-4b4c9e475f825271.arrow\n"
     ]
    }
   ],
   "source": [
    "SEED = 42\n",
    "\n",
    "merged_train = concatenate_datasets(\n",
    "    [\n",
    "        dataset_csn_java[\"train\"].shuffle(seed=SEED).select(range(100_000)),\n",
    "        dataset_csn_python[\"train\"].shuffle(seed=SEED).select(range(100_000)),\n",
    "        dataset_csn_javascript[\"train\"].shuffle(seed=SEED).select(range(100_000)),\n",
    "        dataset_seq[\"train\"].shuffle(seed=SEED).select(range(300_000)),\n",
    "    ]\n",
    ")\n",
    "merged_valid = concatenate_datasets(\n",
    "    [\n",
    "        dataset_csn_java[\"validation\"].shuffle(seed=SEED).select(range(1000)),\n",
    "        dataset_csn_python[\"validation\"].shuffle(seed=SEED).select(range(1000)),\n",
    "        dataset_csn_javascript[\"validation\"].shuffle(seed=SEED).select(range(1000)),\n",
    "        dataset_seq[\"valid\"].shuffle(seed=SEED).select(range(3000)),\n",
    "    ]\n",
    ")\n",
    "merged_test = concatenate_datasets(\n",
    "    [\n",
    "        dataset_csn_java[\"test\"].shuffle(seed=SEED).select(range(1000)),\n",
    "        dataset_csn_python[\"test\"].shuffle(seed=SEED).select(range(1000)),\n",
    "        dataset_csn_javascript[\"test\"].shuffle(seed=SEED).select(range(1000)),\n",
    "        dataset_seq[\"test\"].shuffle(seed=SEED).select(range(3000)),\n",
    "    ]\n",
    ")\n"
   ]
  },
  {
   "cell_type": "code",
   "execution_count": 12,
   "metadata": {},
   "outputs": [
    {
     "name": "stdout",
     "output_type": "stream",
     "text": [
      "Dataset({\n",
      "    features: ['code', 'input_ids', 'attention_mask', 'labels'],\n",
      "    num_rows: 600000\n",
      "})\n",
      "Dataset({\n",
      "    features: ['code', 'input_ids', 'attention_mask', 'labels'],\n",
      "    num_rows: 6000\n",
      "})\n",
      "Dataset({\n",
      "    features: ['code', 'input_ids', 'attention_mask', 'labels'],\n",
      "    num_rows: 6000\n",
      "})\n"
     ]
    },
    {
     "data": {
      "application/vnd.jupyter.widget-view+json": {
       "model_id": "5b3382872c4547fc9abc50df1f7e2e37",
       "version_major": 2,
       "version_minor": 0
      },
      "text/plain": [
       "Flattening the indices:   0%|          | 0/600 [00:00<?, ?ba/s]"
      ]
     },
     "metadata": {},
     "output_type": "display_data"
    },
    {
     "data": {
      "application/vnd.jupyter.widget-view+json": {
       "model_id": "c91051d0d23b402ebcb930a824a0aa9e",
       "version_major": 2,
       "version_minor": 0
      },
      "text/plain": [
       "Flattening the indices:   0%|          | 0/6 [00:00<?, ?ba/s]"
      ]
     },
     "metadata": {},
     "output_type": "display_data"
    },
    {
     "data": {
      "application/vnd.jupyter.widget-view+json": {
       "model_id": "2ce18428c846483aa802905adc108350",
       "version_major": 2,
       "version_minor": 0
      },
      "text/plain": [
       "Flattening the indices:   0%|          | 0/6 [00:00<?, ?ba/s]"
      ]
     },
     "metadata": {},
     "output_type": "display_data"
    }
   ],
   "source": [
    "print(merged_train)\n",
    "print(merged_valid)\n",
    "print(merged_test)\n",
    "\n",
    "merged_train.save_to_disk(\"/data/nicolasmaier/dataset/hf_merged_train_1\")\n",
    "merged_valid.save_to_disk(\"/data/nicolasmaier/dataset/hf_merged_valid_1\")\n",
    "merged_test.save_to_disk(\"/data/nicolasmaier/dataset/hf_merged_test_1\")\n"
   ]
  },
  {
   "cell_type": "code",
   "execution_count": null,
   "metadata": {},
   "outputs": [],
   "source": []
  }
 ],
 "metadata": {
  "kernelspec": {
   "display_name": "venv",
   "language": "python",
   "name": "python3"
  },
  "language_info": {
   "codemirror_mode": {
    "name": "ipython",
    "version": 3
   },
   "file_extension": ".py",
   "mimetype": "text/x-python",
   "name": "python",
   "nbconvert_exporter": "python",
   "pygments_lexer": "ipython3",
   "version": "3.8.10 (default, Nov 14 2022, 12:59:47) \n[GCC 9.4.0]"
  },
  "orig_nbformat": 4,
  "vscode": {
   "interpreter": {
    "hash": "605e098c6041b6083d991721b9f8ec0203cba3209db372356f118eea72c915b6"
   }
  }
 },
 "nbformat": 4,
 "nbformat_minor": 2
}
