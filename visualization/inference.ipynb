{
 "cells": [
  {
   "cell_type": "code",
   "execution_count": 1,
   "metadata": {},
   "outputs": [],
   "source": [
    "%load_ext autoreload\n",
    "%autoreload 2\n"
   ]
  },
  {
   "cell_type": "code",
   "execution_count": 9,
   "metadata": {},
   "outputs": [],
   "source": [
    "from datasets import load_from_disk\n",
    "from transformers import (\n",
    "    RobertaTokenizer,\n",
    "    T5ForConditionalGeneration,\n",
    ")\n",
    "import torch\n",
    "import random\n",
    "import json\n",
    "from draw_svg import *\n",
    "import threading"
   ]
  },
  {
   "cell_type": "code",
   "execution_count": 3,
   "metadata": {},
   "outputs": [],
   "source": [
    "torch.set_num_threads(16)"
   ]
  },
  {
   "cell_type": "code",
   "execution_count": 3,
   "metadata": {},
   "outputs": [],
   "source": [
    "tokenizer = RobertaTokenizer.from_pretrained(\"Salesforce/codet5-small\")\n",
    "model = T5ForConditionalGeneration.from_pretrained(\n",
    "    \"/data/nicolasmaier/model/ended-3\"\n",
    ")\n"
   ]
  },
  {
   "cell_type": "code",
   "execution_count": 4,
   "metadata": {},
   "outputs": [
    {
     "name": "stdout",
     "output_type": "stream",
     "text": [
      "cuda:0\n"
     ]
    }
   ],
   "source": [
    "device = 'cuda:0' if torch.cuda.is_available() else 'cpu'\n",
    "print(device)\n",
    "model_gpu = model.to(device)"
   ]
  },
  {
   "cell_type": "code",
   "execution_count": 5,
   "metadata": {},
   "outputs": [
    {
     "name": "stdout",
     "output_type": "stream",
     "text": [
      "DatasetDict({\n",
      "    train: Dataset({\n",
      "        features: ['code', 'contents', 'xmi', 'originalLine', 'input_ids', 'attention_mask', 'seq', 'labels'],\n",
      "        num_rows: 366247\n",
      "    })\n",
      "    valid: Dataset({\n",
      "        features: ['code', 'contents', 'xmi', 'originalLine', 'input_ids', 'attention_mask', 'seq', 'labels'],\n",
      "        num_rows: 13022\n",
      "    })\n",
      "    test: Dataset({\n",
      "        features: ['code', 'contents', 'xmi', 'originalLine', 'input_ids', 'attention_mask', 'seq', 'labels'],\n",
      "        num_rows: 21563\n",
      "    })\n",
      "})\n"
     ]
    }
   ],
   "source": [
    "dataset = load_from_disk(\"/data/nicolasmaier/dataset/hf_clean_seq_dataset_3\")\n",
    "print(dataset)"
   ]
  },
  {
   "cell_type": "code",
   "execution_count": 6,
   "metadata": {},
   "outputs": [],
   "source": [
    "def fix_json(s):\n",
    "    stack = []\n",
    "    skip_next = False\n",
    "    for i, c in enumerate(s):\n",
    "        if skip_next:\n",
    "            skip_next = False\n",
    "            continue\n",
    "\n",
    "        if c == \"\\\\\":\n",
    "            skip_next = True\n",
    "        elif c == \"[\":\n",
    "            stack.append(\"[\")\n",
    "        elif c == \"]\":\n",
    "            if stack[-1] != \"[\":\n",
    "                print(\"warning: ] without [\")\n",
    "                s = s[:i] + \" \" + s[i + 1 :]\n",
    "            else:\n",
    "                stack.pop()\n",
    "        elif c == \"{\":\n",
    "            stack.append(\"{\")\n",
    "        elif c == \"}\":\n",
    "            if stack[-1] != \"{\":\n",
    "                print(\"warning: } without {\")\n",
    "                s = s[:i] + \" \" + s[i + 1 :]\n",
    "            else:\n",
    "                stack.pop()\n",
    "\n",
    "    for c in stack[::-1]:\n",
    "        if c == \"[\":\n",
    "            print(\"warning: [ without ]\")\n",
    "            s += \"]\"\n",
    "        elif c == \"{\":\n",
    "            print(\"warning: { without }\")\n",
    "            s += \"}\"\n",
    "\n",
    "    return s\n",
    "\n",
    "def model_generate(code):\n",
    "    model_input = tokenizer(code, return_tensors=\"pt\").to(device)\n",
    "\n",
    "    outputs = model_gpu.generate(\n",
    "        model_input.input_ids,\n",
    "        num_beams=10,\n",
    "        max_length=510,\n",
    "        # do_sample=True,\n",
    "        temperature=0.3,\n",
    "        top_k=50,\n",
    "        top_p=0.8,\n",
    "    )\n",
    "    model_output = tokenizer.decode(outputs[0][2:-1])\n",
    "    \n",
    "    print(\"input:\", code)\n",
    "    print(\"output:\", model_output)\n",
    "\n",
    "    seq_text = None\n",
    "    while seq_text is None:\n",
    "        try:\n",
    "            seq_text = json.loads(fix_json(model_output))\n",
    "        except json.decoder.JSONDecodeError as e:\n",
    "            if e.msg == \"Extra data\":\n",
    "                print(\"warning: extra data in\", model_output)\n",
    "                model_output = model_output[: e.pos]\n",
    "            else:\n",
    "                print(\"error:\")\n",
    "                print(model_output)\n",
    "                raise e\n",
    "\n",
    "    return seq_text"
   ]
  },
  {
   "cell_type": "code",
   "execution_count": 14,
   "metadata": {},
   "outputs": [
    {
     "name": "stdout",
     "output_type": "stream",
     "text": [
      "input: public void test(int x, String y) {\n",
      "\t\tA a = new A();\n",
      "\t\t\n",
      "\t\ta.foo1();\n",
      "\t\ta.foo2(42);\n",
      "\t\t\n",
      "\t\twhile (a.foo3()) {\n",
      "\t\t\tB b = new B();\n",
      "\t\t\t\n",
      "\t\t\tb.bar1();\n",
      "\t\t\t\n",
      "\t\t\tif (b.bar2() && xyz) {\n",
      "\t\t\t\tb.bar3(42);\n",
      "\t\t\t} else {\n",
      "\t\t\t\tb.bar4();\n",
      "\t\t\t}\n",
      "\t\t}\n",
      "\t}\n",
      "output: {\"title\": \"test(x, y)\", \"sequence\": [{\"type\": \"newInstance\", \"new_type\": \"A\"}, {\"type\": \"scopedVariable\", \"name\": \"a\"}, {\"type\": \"methodInvocation\", \"to\": [\"a\"], \"method\": \"foo1()\"}, {\"type\": \"methodInvocation\", \"to\": [\"a\"], \"method\": \"foo2(42)\"}, {\"type\": \"methodInvocation\", \"to\": [\"a\"], \"method\": \"foo3()\"}, {\"type\": \"blocks\", \"name\": \"while\", \"blocks\": [{\"guard\": \"a.foo3()\", \"contents\": [{\"type\": \"newInstance\", \"new_type\": \"B\"}, {\"type\": \"scopedVariable\", \"name\": \"b\"}, {\"type\": \"methodInvocation\", \"to\": [\"b\"], \"method\": \"bar1()\"}, {\"type\": \"methodInvocation\", \"to\": [\"b\"], \"method\": \"bar2()\"}, {\"type\": \"blocks\", \"name\": \"if\", \"blocks\": [{\"guard\": \"b.bar2() && xyz\", \"contents\": [{\"type\": \"methodInvocation\", \"to\": [\"b\"], \"method\": \"bar3(42)\"}]}, {\"guard\": \"else\", \"contents\": [{\"type\": \"methodInvocation\", \"to\": [\"b\"], \"method\": \"bar4()\"}]}]}]}]}]}\n"
     ]
    }
   ],
   "source": [
    "with open(\"test_code.txt\", \"r\", encoding=\"utf-8\") as f:\n",
    "    code = f.read()\n",
    "    seq_text = model_generate(code)\n",
    "    t_res = None\n",
    "    def t_run():\n",
    "        global t_res\n",
    "        t_res = draw_svg(seq_text)\n",
    "    t = threading.Thread(target=t_run)\n",
    "    t.start()\n",
    "    t.join()\n",
    "    with open(\"out/model.svg\", \"wb\") as f:\n",
    "        f.write(t_res)"
   ]
  },
  {
   "cell_type": "code",
   "execution_count": null,
   "metadata": {},
   "outputs": [],
   "source": []
  }
 ],
 "metadata": {
  "kernelspec": {
   "display_name": "venv",
   "language": "python",
   "name": "python3"
  },
  "language_info": {
   "codemirror_mode": {
    "name": "ipython",
    "version": 3
   },
   "file_extension": ".py",
   "mimetype": "text/x-python",
   "name": "python",
   "nbconvert_exporter": "python",
   "pygments_lexer": "ipython3",
   "version": "3.8.10 (default, Nov 14 2022, 12:59:47) \n[GCC 9.4.0]"
  },
  "orig_nbformat": 4,
  "vscode": {
   "interpreter": {
    "hash": "875963fee942b3f69bd88b5f58624de4db6bd1d41d962233427d20abfea672ef"
   }
  }
 },
 "nbformat": 4,
 "nbformat_minor": 2
}
