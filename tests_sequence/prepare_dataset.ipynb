{
 "cells": [
  {
   "cell_type": "code",
   "execution_count": 2,
   "metadata": {},
   "outputs": [],
   "source": [
    "import json\n",
    "from datasets import load_from_disk, load_dataset\n",
    "from transformers import RobertaTokenizer\n",
    "from process_java_model import *\n",
    "import os\n"
   ]
  },
  {
   "cell_type": "code",
   "execution_count": 3,
   "metadata": {},
   "outputs": [],
   "source": [
    "tokenizer = RobertaTokenizer.from_pretrained(\"Salesforce/codet5-small\")\n"
   ]
  },
  {
   "cell_type": "code",
   "execution_count": null,
   "metadata": {},
   "outputs": [],
   "source": [
    "DATASET_PATH = \"../dataset/codesearchnet-java-discovered/\"\n",
    "\n",
    "data_files = {\"train\": [], \"valid\": [], \"test\": []}\n",
    "\n",
    "for file in os.listdir(DATASET_PATH):\n",
    "    file_path = os.path.join(DATASET_PATH, file)\n",
    "    if \"train\" in file:\n",
    "        data_files[\"train\"].append(file_path)\n",
    "    elif \"valid\" in file:\n",
    "        data_files[\"valid\"].append(file_path)\n",
    "    elif \"test\" in file:\n",
    "        data_files[\"test\"].append(file_path)\n",
    "\n",
    "print(data_files)\n",
    "\n",
    "dataset = load_dataset(\"json\", data_files=data_files)\n",
    "print(dataset)\n"
   ]
  },
  {
   "cell_type": "code",
   "execution_count": null,
   "metadata": {},
   "outputs": [],
   "source": [
    "def preprocess_examples(examples):\n",
    "    contents = examples[\"code\"]\n",
    "    model_inputs = tokenizer(contents)\n",
    "    return model_inputs\n",
    "\n",
    "\n",
    "dataset_with_input = dataset.map(\n",
    "    preprocess_examples,\n",
    "    batched=True,\n",
    "    batch_size=100,\n",
    "    num_proc=64,\n",
    ")\n"
   ]
  },
  {
   "cell_type": "code",
   "execution_count": null,
   "metadata": {},
   "outputs": [],
   "source": [
    "def preprocess_examples(examples):\n",
    "    xmi = examples[\"xmi\"]\n",
    "\n",
    "    seqs = [generate_sequence(xmi_string) for xmi_string in xmi]\n",
    "    seqs = [json.dumps(seq) for seq in seqs]\n",
    "\n",
    "    labels = tokenizer(seqs).input_ids\n",
    "\n",
    "    return {\"seq\": seqs, \"labels\": labels}\n",
    "\n",
    "\n",
    "dataset_with_output = dataset_with_input.map(\n",
    "    preprocess_examples,\n",
    "    batched=True,\n",
    "    batch_size=10,\n",
    "    num_proc=64,\n",
    ")\n"
   ]
  },
  {
   "cell_type": "code",
   "execution_count": 7,
   "metadata": {},
   "outputs": [
    {
     "name": "stdout",
     "output_type": "stream",
     "text": [
      "DatasetDict({\n",
      "    train: Dataset({\n",
      "        features: ['code', 'contents', 'xmi', 'originalLine', 'input_ids', 'attention_mask', 'seq', 'labels'],\n",
      "        num_rows: 454273\n",
      "    })\n",
      "    valid: Dataset({\n",
      "        features: ['code', 'contents', 'xmi', 'originalLine', 'input_ids', 'attention_mask', 'seq', 'labels'],\n",
      "        num_rows: 15326\n",
      "    })\n",
      "    test: Dataset({\n",
      "        features: ['code', 'contents', 'xmi', 'originalLine', 'input_ids', 'attention_mask', 'seq', 'labels'],\n",
      "        num_rows: 26902\n",
      "    })\n",
      "})\n"
     ]
    }
   ],
   "source": [
    "print(dataset_with_output)\n",
    "dataset_with_output.save_to_disk(\"/data/nicolasmaier/dataset/hf_seq_dataset_2\")\n"
   ]
  },
  {
   "cell_type": "code",
   "execution_count": null,
   "metadata": {},
   "outputs": [],
   "source": [
    "MAX_LENGTH = 505\n",
    "\n",
    "dataset_filtered = dataset_with_output.filter(\n",
    "    lambda example: len(example[\"input_ids\"]) <= MAX_LENGTH, num_proc=64\n",
    ").filter(\n",
    "    lambda example: len(example[\"seq\"]) >= 5 and len(example[\"labels\"]) <= MAX_LENGTH,\n",
    "    num_proc=64,\n",
    ")\n"
   ]
  },
  {
   "cell_type": "code",
   "execution_count": 9,
   "metadata": {},
   "outputs": [
    {
     "name": "stdout",
     "output_type": "stream",
     "text": [
      "DatasetDict({\n",
      "    train: Dataset({\n",
      "        features: ['code', 'contents', 'xmi', 'originalLine', 'input_ids', 'attention_mask', 'seq', 'labels'],\n",
      "        num_rows: 381183\n",
      "    })\n",
      "    valid: Dataset({\n",
      "        features: ['code', 'contents', 'xmi', 'originalLine', 'input_ids', 'attention_mask', 'seq', 'labels'],\n",
      "        num_rows: 13383\n",
      "    })\n",
      "    test: Dataset({\n",
      "        features: ['code', 'contents', 'xmi', 'originalLine', 'input_ids', 'attention_mask', 'seq', 'labels'],\n",
      "        num_rows: 22333\n",
      "    })\n",
      "})\n"
     ]
    },
    {
     "data": {
      "application/vnd.jupyter.widget-view+json": {
       "model_id": "9ece3b333f7b4df998643879967efa1a",
       "version_major": 2,
       "version_minor": 0
      },
      "text/plain": [
       "Flattening the indices:   0%|          | 0/382 [00:00<?, ?ba/s]"
      ]
     },
     "metadata": {},
     "output_type": "display_data"
    },
    {
     "data": {
      "application/vnd.jupyter.widget-view+json": {
       "model_id": "150f1f0726664cf3b979ca9c0d6c2c20",
       "version_major": 2,
       "version_minor": 0
      },
      "text/plain": [
       "Flattening the indices:   0%|          | 0/14 [00:00<?, ?ba/s]"
      ]
     },
     "metadata": {},
     "output_type": "display_data"
    },
    {
     "data": {
      "application/vnd.jupyter.widget-view+json": {
       "model_id": "db34ea2fe7104b9bb2bfaa4d04c86252",
       "version_major": 2,
       "version_minor": 0
      },
      "text/plain": [
       "Flattening the indices:   0%|          | 0/23 [00:00<?, ?ba/s]"
      ]
     },
     "metadata": {},
     "output_type": "display_data"
    }
   ],
   "source": [
    "print(dataset_filtered)\n",
    "dataset_filtered.save_to_disk(\"/data/nicolasmaier/dataset/hf_clean_seq_dataset_2\")\n"
   ]
  },
  {
   "cell_type": "code",
   "execution_count": null,
   "metadata": {},
   "outputs": [],
   "source": []
  }
 ],
 "metadata": {
  "kernelspec": {
   "display_name": "Python 3.8.10 ('venv': venv)",
   "language": "python",
   "name": "python3"
  },
  "language_info": {
   "codemirror_mode": {
    "name": "ipython",
    "version": 3
   },
   "file_extension": ".py",
   "mimetype": "text/x-python",
   "name": "python",
   "nbconvert_exporter": "python",
   "pygments_lexer": "ipython3",
   "version": "3.8.10"
  },
  "orig_nbformat": 4,
  "vscode": {
   "interpreter": {
    "hash": "605e098c6041b6083d991721b9f8ec0203cba3209db372356f118eea72c915b6"
   }
  }
 },
 "nbformat": 4,
 "nbformat_minor": 2
}
