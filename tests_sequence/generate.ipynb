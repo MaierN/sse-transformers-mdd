{
 "cells": [
  {
   "cell_type": "code",
   "execution_count": 1,
   "metadata": {},
   "outputs": [],
   "source": [
    "%load_ext autoreload\n",
    "%autoreload 2\n"
   ]
  },
  {
   "cell_type": "code",
   "execution_count": 2,
   "metadata": {},
   "outputs": [],
   "source": [
    "from pprint import pprint\n",
    "from datasets import load_from_disk\n",
    "from process_java_model import *\n",
    "from model_parser import *\n"
   ]
  },
  {
   "cell_type": "code",
   "execution_count": 3,
   "metadata": {},
   "outputs": [
    {
     "name": "stdout",
     "output_type": "stream",
     "text": [
      "DatasetDict({\n",
      "    train: Dataset({\n",
      "        features: ['code', 'contents', 'xmi', 'originalLine', 'input_ids', 'attention_mask', 'labels'],\n",
      "        num_rows: 425631\n",
      "    })\n",
      "    valid: Dataset({\n",
      "        features: ['code', 'contents', 'xmi', 'originalLine', 'input_ids', 'attention_mask', 'labels'],\n",
      "        num_rows: 14634\n",
      "    })\n",
      "    test: Dataset({\n",
      "        features: ['code', 'contents', 'xmi', 'originalLine', 'input_ids', 'attention_mask', 'labels'],\n",
      "        num_rows: 25156\n",
      "    })\n",
      "})\n"
     ]
    }
   ],
   "source": [
    "dataset = load_from_disk(\"/data/nicolasmaier/dataset/hf_clean_dataset\")\n",
    "print(dataset)"
   ]
  },
  {
   "cell_type": "code",
   "execution_count": 25,
   "metadata": {},
   "outputs": [
    {
     "name": "stdout",
     "output_type": "stream",
     "text": [
      "### PROBLEM get_to_path: <Element 'expression' at 0x7f7a2d796540> [('{http://www.w3.org/2001/XMLSchema-instance}type', 'java:TypeLiteral'), ('originalCompilationUnit', '//@compilationUnits.0')]\n",
      "=== problem in 532\n",
      "[{'type': 'methodInvocation', 'to': '### unk', 'method': 'getName'},\n",
      " {'type': 'methodInvocation', 'to': [], 'method': 'setClassName'},\n",
      " {'type': 'newInstance', 'constructor': 'new Properties()'},\n",
      " {'type': 'methodInvocation', 'to': [], 'method': 'setDriverProperties'}]\n",
      "### PROBLEM get_to_path: <Element 'expression' at 0x7f7a2d78b1d0> [('{http://www.w3.org/2001/XMLSchema-instance}type', 'java:TypeLiteral'), ('originalCompilationUnit', '//@compilationUnits.0')]\n",
      "=== problem in 554\n",
      "[{'type': 'methodInvocation', 'to': '### unk', 'method': 'getName'},\n",
      " {'type': 'methodInvocation', 'to': [], 'method': 'setClassName'},\n",
      " {'type': 'newInstance', 'constructor': 'new Properties()'},\n",
      " {'type': 'methodInvocation', 'to': [], 'method': 'setDriverProperties'}]\n"
     ]
    }
   ],
   "source": [
    "offset = 0\n",
    "n = 1000\n",
    "for i in range(offset, offset + n):\n",
    "    res = generate_sequence(dataset[\"train\"][i])\n",
    "    if generate_sequence.problem:\n",
    "        print(f\"=== problem in {i}\")\n",
    "        pprint(res, sort_dicts=False)\n"
   ]
  },
  {
   "cell_type": "code",
   "execution_count": 26,
   "metadata": {},
   "outputs": [
    {
     "name": "stdout",
     "output_type": "stream",
     "text": [
      "public void setDataSource(XADataSource dataSource) {\n",
      "\t\tthis.dataSource = dataSource;\n",
      "\t\tsetClassName(DirectXADataSource.class.getName());\n",
      "\t\tsetDriverProperties(new Properties());\n",
      "\t}\n"
     ]
    }
   ],
   "source": [
    "print(dataset[\"train\"][532][\"code\"])"
   ]
  },
  {
   "cell_type": "code",
   "execution_count": 15,
   "metadata": {},
   "outputs": [
    {
     "name": "stdout",
     "output_type": "stream",
     "text": [
      "[{'type': 'ifStatement',\n",
      "  'contents_then': [{'type': 'methodInvocation',\n",
      "                     'to': ['condition'],\n",
      "                     'method': 'getMatchOutcome'},\n",
      "                    {'type': 'methodInvocation',\n",
      "                     'to': '### unk',\n",
      "                     'method': 'isMatch'},\n",
      "                    'return'],\n",
      "  'contents_else': []},\n",
      " {'type': 'methodInvocation', 'to': ['condition'], 'method': 'matches'},\n",
      " 'return']\n"
     ]
    }
   ],
   "source": [
    "pprint(generate_sequence(dataset[\"train\"][76]), sort_dicts=False)"
   ]
  },
  {
   "cell_type": "code",
   "execution_count": 13,
   "metadata": {},
   "outputs": [
    {
     "name": "stdout",
     "output_type": "stream",
     "text": [
      "<?xml version=\"1.0\" encoding=\"ASCII\"?>\n",
      "<java:Model xmi:version=\"2.0\" xmlns:xmi=\"http://www.omg.org/XMI\" xmlns:xsi=\"http://www.w3.org/2001/XMLSchema-instance\" xmlns:java=\"http://www.eclipse.org/MoDisco/Java/0.2.incubation/java\" name=\"TargetProject\">\n",
      "  <ownedElements name=\"targetpackage\">\n",
      "    <ownedElements xsi:type=\"java:ClassDeclaration\" originalCompilationUnit=\"//@compilationUnits.0\" name=\"TargetClass\">\n",
      "      <modifier visibility=\"public\"/>\n",
      "      <bodyDeclarations xsi:type=\"java:MethodDeclaration\" originalCompilationUnit=\"//@compilationUnits.0\" name=\"matches\">\n",
      "        <modifier visibility=\"protected\" inheritance=\"final\"/>\n",
      "        <body originalCompilationUnit=\"//@compilationUnits.0\">\n",
      "          <statements xsi:type=\"java:IfStatement\" originalCompilationUnit=\"//@compilationUnits.0\">\n",
      "            <expression xsi:type=\"java:InstanceofExpression\" originalCompilationUnit=\"//@compilationUnits.0\">\n",
      "              <rightOperand type=\"//@unresolvedItems.4\"/>\n",
      "              <leftOperand xsi:type=\"java:UnresolvedItemAccess\" element=\"//@unresolvedItems.3\"/>\n",
      "            </expression>\n",
      "            <thenStatement xsi:type=\"java:Block\" originalCompilationUnit=\"//@compilationUnits.0\">\n",
      "              <statements xsi:type=\"java:ReturnStatement\" originalCompilationUnit=\"//@compilationUnits.0\">\n",
      "                <expression xsi:type=\"java:MethodInvocation\" originalCompilationUnit=\"//@compilationUnits.0\" method=\"//@unresolvedItems.8\">\n",
      "                  <expression xsi:type=\"java:MethodInvocation\" originalCompilationUnit=\"//@compilationUnits.0\" method=\"//@unresolvedItems.5\">\n",
      "                    <arguments xsi:type=\"java:UnresolvedItemAccess\" element=\"//@unresolvedItems.6\"/>\n",
      "                    <arguments xsi:type=\"java:UnresolvedItemAccess\" element=\"//@unresolvedItems.7\"/>\n",
      "                    <expression xsi:type=\"java:ParenthesizedExpression\" originalCompilationUnit=\"//@compilationUnits.0\">\n",
      "                      <expression xsi:type=\"java:CastExpression\" originalCompilationUnit=\"//@compilationUnits.0\">\n",
      "                        <expression xsi:type=\"java:UnresolvedItemAccess\" element=\"//@unresolvedItems.3\"/>\n",
      "                        <type type=\"//@unresolvedItems.4\"/>\n",
      "                      </expression>\n",
      "                    </expression>\n",
      "                  </expression>\n",
      "                </expression>\n",
      "              </statements>\n",
      "            </thenStatement>\n",
      "          </statements>\n",
      "          <statements xsi:type=\"java:ReturnStatement\" originalCompilationUnit=\"//@compilationUnits.0\">\n",
      "            <expression xsi:type=\"java:MethodInvocation\" originalCompilationUnit=\"//@compilationUnits.0\" method=\"//@unresolvedItems.9\">\n",
      "              <arguments xsi:type=\"java:UnresolvedItemAccess\" element=\"//@unresolvedItems.6\"/>\n",
      "              <arguments xsi:type=\"java:UnresolvedItemAccess\" element=\"//@unresolvedItems.7\"/>\n",
      "              <expression xsi:type=\"java:UnresolvedItemAccess\" element=\"//@unresolvedItems.3\"/>\n",
      "            </expression>\n",
      "          </statements>\n",
      "        </body>\n",
      "        <parameters originalCompilationUnit=\"//@compilationUnits.0\" name=\"context\">\n",
      "          <modifier/>\n",
      "          <type type=\"//@unresolvedItems.0\"/>\n",
      "        </parameters>\n",
      "        <parameters originalCompilationUnit=\"//@compilationUnits.0\" name=\"metadata\">\n",
      "          <modifier/>\n",
      "          <type type=\"//@unresolvedItems.1\"/>\n",
      "        </parameters>\n",
      "        <parameters originalCompilationUnit=\"//@compilationUnits.0\" name=\"condition\">\n",
      "          <modifier/>\n",
      "          <type type=\"//@unresolvedItems.2\"/>\n",
      "        </parameters>\n",
      "        <returnType type=\"//@orphanTypes.4\"/>\n",
      "      </bodyDeclarations>\n",
      "    </ownedElements>\n",
      "  </ownedElements>\n",
      "  <orphanTypes xsi:type=\"java:PrimitiveTypeInt\" name=\"int\"/>\n",
      "  <orphanTypes xsi:type=\"java:PrimitiveTypeLong\" name=\"long\"/>\n",
      "  <orphanTypes xsi:type=\"java:PrimitiveTypeFloat\" name=\"float\"/>\n",
      "  <orphanTypes xsi:type=\"java:PrimitiveTypeDouble\" name=\"double\"/>\n",
      "  <orphanTypes xsi:type=\"java:PrimitiveTypeBoolean\" name=\"boolean\" usagesInTypeAccess=\"//@ownedElements.0/@ownedElements.0/@bodyDeclarations.0/@returnType\"/>\n",
      "  <orphanTypes xsi:type=\"java:PrimitiveTypeVoid\" name=\"void\"/>\n",
      "  <orphanTypes xsi:type=\"java:PrimitiveTypeChar\" name=\"char\"/>\n",
      "  <orphanTypes xsi:type=\"java:PrimitiveTypeShort\" name=\"short\"/>\n",
      "  <orphanTypes xsi:type=\"java:PrimitiveTypeByte\" name=\"byte\"/>\n",
      "  <unresolvedItems xsi:type=\"java:UnresolvedTypeDeclaration\" name=\"ConditionContext\" proxy=\"true\" usagesInTypeAccess=\"//@ownedElements.0/@ownedElements.0/@bodyDeclarations.0/@parameters.0/@type\"/>\n",
      "  <unresolvedItems xsi:type=\"java:UnresolvedTypeDeclaration\" name=\"AnnotatedTypeMetadata\" proxy=\"true\" usagesInTypeAccess=\"//@ownedElements.0/@ownedElements.0/@bodyDeclarations.0/@parameters.1/@type\"/>\n",
      "  <unresolvedItems xsi:type=\"java:UnresolvedTypeDeclaration\" name=\"Condition\" proxy=\"true\" usagesInTypeAccess=\"//@ownedElements.0/@ownedElements.0/@bodyDeclarations.0/@parameters.2/@type\"/>\n",
      "  <unresolvedItems name=\"condition\" proxy=\"true\"/>\n",
      "  <unresolvedItems xsi:type=\"java:UnresolvedTypeDeclaration\" name=\"SpringBootCondition\" proxy=\"true\" usagesInTypeAccess=\"//@ownedElements.0/@ownedElements.0/@bodyDeclarations.0/@body/@statements.0/@expression/@rightOperand //@ownedElements.0/@ownedElements.0/@bodyDeclarations.0/@body/@statements.0/@thenStatement/@statements.0/@expression/@expression/@expression/@expression/@type\"/>\n",
      "  <unresolvedItems xsi:type=\"java:UnresolvedMethodDeclaration\" name=\"getMatchOutcome\" proxy=\"true\" usages=\"//@ownedElements.0/@ownedElements.0/@bodyDeclarations.0/@body/@statements.0/@thenStatement/@statements.0/@expression/@expression\"/>\n",
      "  <unresolvedItems name=\"context\" proxy=\"true\"/>\n",
      "  <unresolvedItems name=\"metadata\" proxy=\"true\"/>\n",
      "  <unresolvedItems xsi:type=\"java:UnresolvedMethodDeclaration\" name=\"isMatch\" proxy=\"true\" usages=\"//@ownedElements.0/@ownedElements.0/@bodyDeclarations.0/@body/@statements.0/@thenStatement/@statements.0/@expression\"/>\n",
      "  <unresolvedItems xsi:type=\"java:UnresolvedMethodDeclaration\" name=\"matches\" proxy=\"true\" usages=\"//@ownedElements.0/@ownedElements.0/@bodyDeclarations.0/@body/@statements.1/@expression\"/>\n",
      "  <compilationUnits name=\"TargetClass.java\" originalFilePath=\"C:\\Users\\Nic\\Documents\\my_documents\\unifr\\seminar_software_engineering\\sse-transformers-mdd\\workspace_target\\TargetProject\\src\\targetpackage\\TargetClass.java\" package=\"//@ownedElements.0\" types=\"//@ownedElements.0/@ownedElements.0\"/>\n",
      "</java:Model>\n",
      "\n"
     ]
    }
   ],
   "source": [
    "print(dataset[\"train\"][76][\"xmi\"])"
   ]
  },
  {
   "cell_type": "code",
   "execution_count": 107,
   "metadata": {},
   "outputs": [
    {
     "name": "stdout",
     "output_type": "stream",
     "text": [
      "[{'type': 'methodInvocation', 'to': ['ccc', 'aaa', 'fff'], 'method': 'ddd'}]\n"
     ]
    }
   ],
   "source": [
    "with open(\"test_in.xml\") as f:\n",
    "    example = {\"xmi\": f.read()}\n",
    "pprint(generate_sequence(example), sort_dicts=False)\n"
   ]
  }
 ],
 "metadata": {
  "kernelspec": {
   "display_name": "Python 3.8.10 ('venv': venv)",
   "language": "python",
   "name": "python3"
  },
  "language_info": {
   "codemirror_mode": {
    "name": "ipython",
    "version": 3
   },
   "file_extension": ".py",
   "mimetype": "text/x-python",
   "name": "python",
   "nbconvert_exporter": "python",
   "pygments_lexer": "ipython3",
   "version": "3.8.10"
  },
  "orig_nbformat": 4,
  "vscode": {
   "interpreter": {
    "hash": "605e098c6041b6083d991721b9f8ec0203cba3209db372356f118eea72c915b6"
   }
  }
 },
 "nbformat": 4,
 "nbformat_minor": 2
}
