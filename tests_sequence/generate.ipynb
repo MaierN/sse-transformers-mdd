{
 "cells": [
  {
   "cell_type": "code",
   "execution_count": 2,
   "metadata": {},
   "outputs": [],
   "source": [
    "%load_ext autoreload\n",
    "%autoreload 2\n"
   ]
  },
  {
   "cell_type": "code",
   "execution_count": 3,
   "metadata": {},
   "outputs": [],
   "source": [
    "from pprint import pprint\n",
    "from datasets import load_from_disk\n",
    "from process_java_model import *\n",
    "from model_parser import *\n"
   ]
  },
  {
   "cell_type": "code",
   "execution_count": 4,
   "metadata": {},
   "outputs": [
    {
     "name": "stdout",
     "output_type": "stream",
     "text": [
      "DatasetDict({\n",
      "    train: Dataset({\n",
      "        features: ['code', 'contents', 'xmi', 'originalLine', 'input_ids', 'attention_mask', 'labels'],\n",
      "        num_rows: 425631\n",
      "    })\n",
      "    valid: Dataset({\n",
      "        features: ['code', 'contents', 'xmi', 'originalLine', 'input_ids', 'attention_mask', 'labels'],\n",
      "        num_rows: 14634\n",
      "    })\n",
      "    test: Dataset({\n",
      "        features: ['code', 'contents', 'xmi', 'originalLine', 'input_ids', 'attention_mask', 'labels'],\n",
      "        num_rows: 25156\n",
      "    })\n",
      "})\n"
     ]
    }
   ],
   "source": [
    "dataset = load_from_disk(\"/data/nicolasmaier/dataset/hf_clean_dataset\")\n",
    "print(dataset)"
   ]
  },
  {
   "cell_type": "code",
   "execution_count": 46,
   "metadata": {},
   "outputs": [
    {
     "name": "stdout",
     "output_type": "stream",
     "text": [
      "0 / 10000\n",
      "1000 / 10000\n",
      "2000 / 10000\n",
      "3000 / 10000\n",
      "4000 / 10000\n",
      "5000 / 10000\n",
      "6000 / 10000\n",
      "7000 / 10000\n",
      "8000 / 10000\n",
      "9000 / 10000\n"
     ]
    }
   ],
   "source": [
    "offset = 0\n",
    "n = 10000\n",
    "for i in range(offset, offset + n):\n",
    "    if i % (n // 10) == 0:\n",
    "        print(f\"{i - offset} / {n}\")\n",
    "    try:\n",
    "        res = generate_sequence(dataset[\"train\"][i])\n",
    "        if generate_sequence.problem:\n",
    "            print(f\"=== problem in {i}\")\n",
    "            pprint(res, sort_dicts=False)\n",
    "    except Exception as e:\n",
    "        print(f\"=== exception in {i}\")\n",
    "        raise e\n"
   ]
  },
  {
   "cell_type": "code",
   "execution_count": 43,
   "metadata": {},
   "outputs": [
    {
     "name": "stdout",
     "output_type": "stream",
     "text": [
      "public void setServletRegistrationBeans(\n",
      "\t\t\tCollection<? extends ServletRegistrationBean<?>> servletRegistrationBeans) {\n",
      "\t\tAssert.notNull(servletRegistrationBeans,\n",
      "\t\t\t\t\"ServletRegistrationBeans must not be null\");\n",
      "\t\tthis.servletRegistrationBeans = new LinkedHashSet<>(servletRegistrationBeans);\n",
      "\t}\n",
      "\n",
      "\n",
      "\n",
      "[{'type': 'methodInvocation', 'to': ['Assert'], 'method': 'notNull'},\n",
      " {'type': 'newInstance',\n",
      "  'constructor': 'new LinkedHashSet<>(servletRegistrationBeans)'}]\n"
     ]
    }
   ],
   "source": [
    "idx = 1\n",
    "\n",
    "print(dataset[\"train\"][idx][\"code\"])\n",
    "with open(\"test_xmi.xml\", \"w\") as f:\n",
    "    f.write(dataset[\"train\"][idx][\"xmi\"])\n",
    "\n",
    "print(\"\\n\\n\")\n",
    "\n",
    "pprint(generate_sequence(dataset[\"train\"][idx]), sort_dicts=False)\n"
   ]
  },
  {
   "cell_type": "code",
   "execution_count": 107,
   "metadata": {},
   "outputs": [
    {
     "name": "stdout",
     "output_type": "stream",
     "text": [
      "[{'type': 'methodInvocation', 'to': ['ccc', 'aaa', 'fff'], 'method': 'ddd'}]\n"
     ]
    }
   ],
   "source": [
    "with open(\"test_in.xml\") as f:\n",
    "    example = {\"xmi\": f.read()}\n",
    "pprint(generate_sequence(example), sort_dicts=False)\n"
   ]
  }
 ],
 "metadata": {
  "kernelspec": {
   "display_name": "Python 3.8.10 ('venv': venv)",
   "language": "python",
   "name": "python3"
  },
  "language_info": {
   "codemirror_mode": {
    "name": "ipython",
    "version": 3
   },
   "file_extension": ".py",
   "mimetype": "text/x-python",
   "name": "python",
   "nbconvert_exporter": "python",
   "pygments_lexer": "ipython3",
   "version": "3.8.10"
  },
  "orig_nbformat": 4,
  "vscode": {
   "interpreter": {
    "hash": "605e098c6041b6083d991721b9f8ec0203cba3209db372356f118eea72c915b6"
   }
  }
 },
 "nbformat": 4,
 "nbformat_minor": 2
}
