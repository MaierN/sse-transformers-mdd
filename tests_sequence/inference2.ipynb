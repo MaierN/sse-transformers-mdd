{
 "cells": [
  {
   "cell_type": "code",
   "execution_count": 1,
   "metadata": {},
   "outputs": [],
   "source": [
    "%load_ext autoreload\n",
    "%autoreload 2\n"
   ]
  },
  {
   "cell_type": "code",
   "execution_count": 2,
   "metadata": {},
   "outputs": [],
   "source": [
    "import os\n",
    "import json\n",
    "from datasets import load_from_disk, load_dataset\n",
    "from transformers import RobertaTokenizer\n",
    "from process_java_model import *\n",
    "from draw_svg import *\n"
   ]
  },
  {
   "cell_type": "code",
   "execution_count": 3,
   "metadata": {},
   "outputs": [
    {
     "name": "stdout",
     "output_type": "stream",
     "text": [
      "DatasetDict({\n",
      "    train: Dataset({\n",
      "        features: ['code', 'contents', 'xmi', 'originalLine', 'input_ids', 'attention_mask', 'seq', 'labels'],\n",
      "        num_rows: 381183\n",
      "    })\n",
      "    valid: Dataset({\n",
      "        features: ['code', 'contents', 'xmi', 'originalLine', 'input_ids', 'attention_mask', 'seq', 'labels'],\n",
      "        num_rows: 13383\n",
      "    })\n",
      "    test: Dataset({\n",
      "        features: ['code', 'contents', 'xmi', 'originalLine', 'input_ids', 'attention_mask', 'seq', 'labels'],\n",
      "        num_rows: 22333\n",
      "    })\n",
      "})\n"
     ]
    }
   ],
   "source": [
    "dataset = load_from_disk(\"/data/nicolasmaier/dataset/hf_clean_seq_dataset_2\")\n",
    "print(dataset)\n"
   ]
  },
  {
   "cell_type": "code",
   "execution_count": 7,
   "metadata": {},
   "outputs": [
    {
     "name": "stdout",
     "output_type": "stream",
     "text": [
      "{'title': 'normalize', 'sequence': [{'type': 'controlFlow', 'name': 'break'}, {'type': 'controlFlow', 'name': 'break'}, {'type': 'controlFlow', 'name': 'break'}, {'type': 'controlFlow', 'name': 'break'}, {'type': 'methodInvocation', 'to': ['StringUtil2'], 'method': 'substitute(units, \"**\", \"^\")'}, {'type': 'methodInvocation', 'to': ['StringUtil2'], 'method': \"remove(units, '}')\"}, {'type': 'methodInvocation', 'to': ['StringUtil2'], 'method': \"remove(units, '{')\"}, {'type': 'controlFlow', 'name': 'break'}, {'type': 'return', 'value': 'units'}]}\n"
     ]
    },
    {
     "ename": "NameError",
     "evalue": "name 'draw_svg' is not defined",
     "output_type": "error",
     "traceback": [
      "\u001b[0;31m---------------------------------------------------------------------------\u001b[0m",
      "\u001b[0;31mNameError\u001b[0m                                 Traceback (most recent call last)",
      "Cell \u001b[0;32mIn [7], line 9\u001b[0m\n\u001b[1;32m      6\u001b[0m seq \u001b[39m=\u001b[39m generate_sequence(xmi)\n\u001b[1;32m      7\u001b[0m \u001b[39mprint\u001b[39m(seq)\n\u001b[0;32m----> 9\u001b[0m svg \u001b[39m=\u001b[39m draw_svg(seq)\n\u001b[1;32m     10\u001b[0m \u001b[39mprint\u001b[39m(svg)\n",
      "\u001b[0;31mNameError\u001b[0m: name 'draw_svg' is not defined"
     ]
    }
   ],
   "source": [
    "idx = 10000\n",
    "\n",
    "example = dataset[\"test\"][idx]\n",
    "xmi = example[\"xmi\"]\n",
    "\n",
    "seq = generate_sequence(xmi)\n",
    "print(seq)\n",
    "\n",
    "svg = draw_svg(seq)\n",
    "print(svg)\n"
   ]
  }
 ],
 "metadata": {
  "kernelspec": {
   "display_name": "venv",
   "language": "python",
   "name": "python3"
  },
  "language_info": {
   "codemirror_mode": {
    "name": "ipython",
    "version": 3
   },
   "file_extension": ".py",
   "mimetype": "text/x-python",
   "name": "python",
   "nbconvert_exporter": "python",
   "pygments_lexer": "ipython3",
   "version": "3.8.10 (default, Nov 14 2022, 12:59:47) \n[GCC 9.4.0]"
  },
  "orig_nbformat": 4,
  "vscode": {
   "interpreter": {
    "hash": "605e098c6041b6083d991721b9f8ec0203cba3209db372356f118eea72c915b6"
   }
  }
 },
 "nbformat": 4,
 "nbformat_minor": 2
}
