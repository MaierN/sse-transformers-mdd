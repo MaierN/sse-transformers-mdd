{
 "cells": [
  {
   "cell_type": "code",
   "execution_count": 1,
   "metadata": {},
   "outputs": [],
   "source": [
    "%load_ext autoreload\n",
    "%autoreload 2\n"
   ]
  },
  {
   "cell_type": "code",
   "execution_count": 8,
   "metadata": {},
   "outputs": [],
   "source": [
    "from datasets import load_from_disk\n",
    "from transformers import (\n",
    "    RobertaTokenizer,\n",
    "    T5ForConditionalGeneration,\n",
    ")\n",
    "import torch\n",
    "import random\n",
    "import json\n",
    "from draw_svg import *\n"
   ]
  },
  {
   "cell_type": "code",
   "execution_count": 3,
   "metadata": {},
   "outputs": [],
   "source": [
    "torch.set_num_threads(16)"
   ]
  },
  {
   "cell_type": "code",
   "execution_count": 4,
   "metadata": {},
   "outputs": [],
   "source": [
    "tokenizer = RobertaTokenizer.from_pretrained(\"Salesforce/codet5-small\")\n",
    "model = T5ForConditionalGeneration.from_pretrained(\n",
    "    \"/data/nicolasmaier/model/codet5-finetuned-seq-4/checkpoint-27000\"\n",
    ")\n"
   ]
  },
  {
   "cell_type": "code",
   "execution_count": 5,
   "metadata": {},
   "outputs": [
    {
     "name": "stdout",
     "output_type": "stream",
     "text": [
      "cpu\n"
     ]
    }
   ],
   "source": [
    "device = 'cpu'# 'cuda:0' if torch.cuda.is_available() else 'cpu'\n",
    "print(device)\n",
    "model_gpu = model.to(device)"
   ]
  },
  {
   "cell_type": "code",
   "execution_count": 6,
   "metadata": {},
   "outputs": [
    {
     "name": "stdout",
     "output_type": "stream",
     "text": [
      "DatasetDict({\n",
      "    train: Dataset({\n",
      "        features: ['code', 'contents', 'xmi', 'originalLine', 'input_ids', 'attention_mask', 'seq', 'labels'],\n",
      "        num_rows: 381183\n",
      "    })\n",
      "    valid: Dataset({\n",
      "        features: ['code', 'contents', 'xmi', 'originalLine', 'input_ids', 'attention_mask', 'seq', 'labels'],\n",
      "        num_rows: 13383\n",
      "    })\n",
      "    test: Dataset({\n",
      "        features: ['code', 'contents', 'xmi', 'originalLine', 'input_ids', 'attention_mask', 'seq', 'labels'],\n",
      "        num_rows: 22333\n",
      "    })\n",
      "})\n"
     ]
    }
   ],
   "source": [
    "dataset = load_from_disk(\"/data/nicolasmaier/dataset/hf_clean_seq_dataset_2\")\n",
    "print(dataset)"
   ]
  },
  {
   "cell_type": "code",
   "execution_count": 15,
   "metadata": {},
   "outputs": [
    {
     "name": "stdout",
     "output_type": "stream",
     "text": [
      "6830\n",
      "<s>public static JBossPortComponentMetaData getJBossWebserviceMetaDataPortComponent(\n",
      "        final DeploymentUnit unit, final String name) {\n",
      "\n",
      "        if (name!= null) {\n",
      "            final JBossWebservicesMetaData jbossWebserviceMetaData = unit.getAttachment(JBOSS_WEBSERVICES_METADATA_KEY);\n",
      "\n",
      "            if (jbossWebserviceMetaData!= null) {\n",
      "                JBossPortComponentMetaData[] portComponent = jbossWebserviceMetaData.getPortComponents();\n",
      "\n",
      "                if (portComponent!= null) {\n",
      "                    for (JBossPortComponentMetaData component : portComponent) {\n",
      "                        if (name.equals(component.getEjbName())) {\n",
      "                            return component;\n",
      "                        }\n",
      "                    }\n",
      "                }\n",
      "            }\n",
      "        }\n",
      "        return null;\n",
      "    }</s>\n",
      "\n",
      "<s>[{\"type\": \"blocks\", \"blocks\": [{\"name\": \"if\", \"guard\": \"name!= null\", \"contents\": [{\"type\": \"methodInvocation\", \"to\": [\"unit\"], \"method\": \"getAttachment\"}, {\"type\": \"scopedVariable\", \"name\": \"jbossWebserviceMetaData\"}, {\"type\": \"blocks\", \"blocks\": [{\"name\": \"if\", \"guard\": \"jbossWebserviceMetaData!= null\", \"contents\": [{\"type\": \"methodInvocation\", \"to\": [\"jbossWebserviceMetaData\"], \"method\": \"getPortComponents\"}, {\"type\": \"scopedVariable\", \"name\": \"portComponent\"}, {\"type\": \"blocks\", \"blocks\": [{\"name\": \"if\", \"guard\": \"portComponent!= null\", \"contents\": [{\"type\": \"blocks\", \"blocks\": [{\"name\": \"for\", \"guard\": \"component in portComponent\", \"contents\": [{\"type\": \"scopedVariable\", \"name\": \"component\"}, {\"type\": \"methodInvocation\", \"to\": [\"component\"], \"method\": \"getEjbName\"}, {\"type\": \"methodInvocation\", \"to\": [\"name\"], \"method\": \"equals\"}, {\"type\": \"blocks\", \"blocks\": [{\"name\": \"if\", \"guard\": \"[...].equals([...])\", \"contents\": [{\"type\": \"return\", \"value\": \"component\"}]}]}]}]}]}]}]}]}]}]}, {\"type\": \"return\", \"value\": \"null\"}]</s>\n",
      "\n",
      "[{\"type\": \"blocks\", \"blocks\": [{\"name\": \"if\", \"guard\": \"name!= null\", \"contents\": [{\"type\": \"methodInvocation\", \"to\": [\"unit\"], \"method\": \"getAttachment\"}, {\"type\": \"scopedVariable\", \"name\": \"jbossWebserviceMetaData\"}, {\"type\": \"blocks\", \"blocks\": [{\"name\": \"if\", \"guard\": \"jbossWebserviceMetaData!= null\", \"contents\": [{\"type\": \"methodInvocation\", \"to\": [\"jbossWebserviceMetaData\"], \"method\": \"getPortComponents\"}, {\"type\": \"scopedVariable\", \"name\": \"portComponent\"}, {\"type\": \"blocks\", \"blocks\": [{\"name\": \"if\", \"guard\": \"portComponent!= null\", \"contents\": [{\"type\": \"blocks\", \"blocks\": [{\"name\": \"for\", \"guard\": \"component in portComponent\", \"contents\": [{\"type\": \"scopedVariable\", \"name\": \"component\"}, {\"type\": \"methodInvocation\", \"to\": [\"component\"], \"method\": \"getEjbName\"}, {\"type\": \"methodInvocation\", \"to\": [\"name\"], \"method\": \"equals\"}, {\"type\": \"blocks\", \"blocks\": [{\"name\": \"if\", \"guard\": \"[...].equals([...])\", \"contents\": [{\"type\": \"return\", \"value\": \"component\"}]}]}]}]}]}]}]}]}]}, {\"type\": \"return\", \"value\": \"null\"}]}]}]\n",
      "problem\n",
      "problem\n",
      "[{'type': 'blocks', 'blocks': [{'name': 'if', 'guard': 'name!= null', 'contents': [{'type': 'methodInvocation', 'to': ['unit'], 'method': 'getAttachment'}, {'type': 'scopedVariable', 'name': 'jbossWebserviceMetaData'}, {'type': 'blocks', 'blocks': [{'name': 'if', 'guard': 'jbossWebserviceMetaData!= null', 'contents': [{'type': 'methodInvocation', 'to': ['jbossWebserviceMetaData'], 'method': 'getPortComponents'}, {'type': 'scopedVariable', 'name': 'portComponent'}, {'type': 'blocks', 'blocks': [{'name': 'if', 'guard': 'portComponent!= null', 'contents': [{'type': 'blocks', 'blocks': [{'name': 'for', 'guard': 'component in portComponent', 'contents': [{'type': 'scopedVariable', 'name': 'component'}, {'type': 'methodInvocation', 'to': ['component'], 'method': 'getEjbName'}, {'type': 'methodInvocation', 'to': ['name'], 'method': 'equals'}, {'type': 'blocks', 'blocks': [{'name': 'if', 'guard': '[...].equals([...])', 'contents': [{'type': 'return', 'value': 'component'}]}]}]}]}]}]}]}]}]}, {'type': 'return', 'value': 'null'}]}]\n"
     ]
    }
   ],
   "source": [
    "example_orig = dataset[\"test\"][6000]\n",
    "print(example_orig[\"originalLine\"])\n",
    "\n",
    "print(tokenizer.decode(example_orig[\"input_ids\"]))\n",
    "print()\n",
    "print(tokenizer.decode(example_orig[\"labels\"]))\n",
    "print()\n",
    "\n",
    "input = tokenizer(example_orig[\"contents\"], return_tensors=\"pt\").to(device)\n",
    "\n",
    "outputs = model_gpu.generate(\n",
    "    input.input_ids,\n",
    "    num_beams=10,\n",
    "    max_length=510,\n",
    "    # do_sample=True,\n",
    "    temperature=0.3,\n",
    "    top_k=50,\n",
    "    top_p=0.8,\n",
    ")\n",
    "model_output = tokenizer.decode(outputs[0][2:-1])\n",
    "print(model_output)\n",
    "\n",
    "res = None\n",
    "while res is None:\n",
    "    try:\n",
    "        res = json.loads(model_output)\n",
    "    except:\n",
    "        print(\"problem\")\n",
    "        model_output = model_output[:-1]\n",
    "\n",
    "print(res)\n",
    "\n",
    "with open(\"diff_out_1.json\", \"w\") as f:\n",
    "    json.dump(json.loads(tokenizer.decode(example_orig[\"labels\"][1:-1])), f, indent=2)\n",
    "with open(\"diff_out_2.json\", \"w\") as f:\n",
    "    json.dump(res, f, indent=2)\n"
   ]
  },
  {
   "cell_type": "code",
   "execution_count": 18,
   "metadata": {},
   "outputs": [
    {
     "name": "stdout",
     "output_type": "stream",
     "text": [
      "[{'type': 'blocks', 'blocks': [{'name': 'if', 'guard': 'mv!= null', 'contents': [{'type': 'methodInvocation', 'to': ['mv'], 'method': 'visitAnnotation'}, {'type': 'return', 'value': '[...].visitAnnotation([...])'}]}]}, {'type': 'return', 'value': 'null'}]\n"
     ]
    }
   ],
   "source": [
    "seq_data = json.loads(tokenizer.decode(dataset[\"test\"][4000][\"labels\"][1:-1]))\n",
    "print(seq_data)"
   ]
  },
  {
   "cell_type": "code",
   "execution_count": 22,
   "metadata": {},
   "outputs": [
    {
     "name": "stdout",
     "output_type": "stream",
     "text": [
      "[{'type': 'blocks', 'blocks': [{'name': 'if', 'guard': 'mv!= null', 'contents': [{'type': 'methodInvocation', 'to': ['mv'], 'method': 'visitAnnotation'}, {'type': 'return', 'value': '[...].visitAnnotation([...])'}]}]}, {'type': 'return', 'value': 'null'}]\n",
      "=====\n",
      "\n"
     ]
    }
   ],
   "source": [
    "print(draw_sequence_diagram(seq_data))"
   ]
  },
  {
   "cell_type": "code",
   "execution_count": null,
   "metadata": {},
   "outputs": [],
   "source": []
  }
 ],
 "metadata": {
  "kernelspec": {
   "display_name": "Python 3.8.10 ('venv': venv)",
   "language": "python",
   "name": "python3"
  },
  "language_info": {
   "codemirror_mode": {
    "name": "ipython",
    "version": 3
   },
   "file_extension": ".py",
   "mimetype": "text/x-python",
   "name": "python",
   "nbconvert_exporter": "python",
   "pygments_lexer": "ipython3",
   "version": "3.8.10"
  },
  "orig_nbformat": 4,
  "vscode": {
   "interpreter": {
    "hash": "605e098c6041b6083d991721b9f8ec0203cba3209db372356f118eea72c915b6"
   }
  }
 },
 "nbformat": 4,
 "nbformat_minor": 2
}
